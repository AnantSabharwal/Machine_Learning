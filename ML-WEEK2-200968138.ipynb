{
 "cells": [
  {
   "cell_type": "markdown",
   "id": "40ea1227",
   "metadata": {},
   "source": [
    "## Exercise 1"
   ]
  },
  {
   "cell_type": "code",
   "execution_count": 1,
   "id": "6789ae9f",
   "metadata": {},
   "outputs": [],
   "source": [
    "#importing necessary libraries\n",
    "import pandas as pd\n",
    "import numpy as np\n",
    "import seaborn as sb\n",
    "import matplotlib.pyplot as plt"
   ]
  },
  {
   "cell_type": "markdown",
   "id": "bf8a738a",
   "metadata": {},
   "source": [
    "#### Q1"
   ]
  },
  {
   "cell_type": "markdown",
   "id": "a57264e0",
   "metadata": {},
   "source": [
    "This dataset describes the medical records for Pima Indians\n",
    "and whether or not each patient will have an onset of diabetes within \f",
    "ve years.\n",
    "\n",
    "Fields description follow:\n",
    "\n",
    "preg = Number of times pregnant\n",
    "\n",
    "plas = Plasma glucose concentration a 2 hours in an oral glucose tolerance test\n",
    "\n",
    "pres = Diastolic blood pressure (mm Hg)\n",
    "\n",
    "skin = Triceps skin fold thickness (mm)\n",
    "\n",
    "test = 2-Hour serum insulin (mu U/ml)\n",
    "\n",
    "mass = Body mass index (weight in kg/(height in m)^2)\n",
    "\n",
    "pedi = Diabetes pedigree function\n",
    "\n",
    "age = Age (years)\n",
    "\n",
    "class = Class variable (1:tested positive for diabetes, 0: tested negative for diabetes)"
   ]
  },
  {
   "cell_type": "markdown",
   "id": "f7c502cd",
   "metadata": {},
   "source": [
    "#### Q2"
   ]
  },
  {
   "cell_type": "code",
   "execution_count": 2,
   "id": "83fb88a8",
   "metadata": {},
   "outputs": [
    {
     "data": {
      "text/html": [
       "<div>\n",
       "<style scoped>\n",
       "    .dataframe tbody tr th:only-of-type {\n",
       "        vertical-align: middle;\n",
       "    }\n",
       "\n",
       "    .dataframe tbody tr th {\n",
       "        vertical-align: top;\n",
       "    }\n",
       "\n",
       "    .dataframe thead th {\n",
       "        text-align: right;\n",
       "    }\n",
       "</style>\n",
       "<table border=\"1\" class=\"dataframe\">\n",
       "  <thead>\n",
       "    <tr style=\"text-align: right;\">\n",
       "      <th></th>\n",
       "      <th>preg</th>\n",
       "      <th>plas</th>\n",
       "      <th>pres</th>\n",
       "      <th>skin</th>\n",
       "      <th>insu</th>\n",
       "      <th>mass</th>\n",
       "      <th>pedi</th>\n",
       "      <th>age</th>\n",
       "      <th>class</th>\n",
       "    </tr>\n",
       "  </thead>\n",
       "  <tbody>\n",
       "    <tr>\n",
       "      <th>0</th>\n",
       "      <td>6</td>\n",
       "      <td>148</td>\n",
       "      <td>72</td>\n",
       "      <td>35</td>\n",
       "      <td>0</td>\n",
       "      <td>33.6</td>\n",
       "      <td>0.627</td>\n",
       "      <td>50</td>\n",
       "      <td>1</td>\n",
       "    </tr>\n",
       "    <tr>\n",
       "      <th>1</th>\n",
       "      <td>1</td>\n",
       "      <td>85</td>\n",
       "      <td>66</td>\n",
       "      <td>29</td>\n",
       "      <td>0</td>\n",
       "      <td>26.6</td>\n",
       "      <td>0.351</td>\n",
       "      <td>31</td>\n",
       "      <td>0</td>\n",
       "    </tr>\n",
       "    <tr>\n",
       "      <th>2</th>\n",
       "      <td>8</td>\n",
       "      <td>183</td>\n",
       "      <td>64</td>\n",
       "      <td>0</td>\n",
       "      <td>0</td>\n",
       "      <td>23.3</td>\n",
       "      <td>0.672</td>\n",
       "      <td>32</td>\n",
       "      <td>1</td>\n",
       "    </tr>\n",
       "    <tr>\n",
       "      <th>3</th>\n",
       "      <td>1</td>\n",
       "      <td>89</td>\n",
       "      <td>66</td>\n",
       "      <td>23</td>\n",
       "      <td>94</td>\n",
       "      <td>28.1</td>\n",
       "      <td>0.167</td>\n",
       "      <td>21</td>\n",
       "      <td>0</td>\n",
       "    </tr>\n",
       "    <tr>\n",
       "      <th>4</th>\n",
       "      <td>0</td>\n",
       "      <td>137</td>\n",
       "      <td>40</td>\n",
       "      <td>35</td>\n",
       "      <td>168</td>\n",
       "      <td>43.1</td>\n",
       "      <td>2.288</td>\n",
       "      <td>33</td>\n",
       "      <td>1</td>\n",
       "    </tr>\n",
       "  </tbody>\n",
       "</table>\n",
       "</div>"
      ],
      "text/plain": [
       "   preg  plas  pres  skin  insu  mass   pedi  age  class\n",
       "0     6   148    72    35     0  33.6  0.627   50      1\n",
       "1     1    85    66    29     0  26.6  0.351   31      0\n",
       "2     8   183    64     0     0  23.3  0.672   32      1\n",
       "3     1    89    66    23    94  28.1  0.167   21      0\n",
       "4     0   137    40    35   168  43.1  2.288   33      1"
      ]
     },
     "execution_count": 2,
     "metadata": {},
     "output_type": "execute_result"
    }
   ],
   "source": [
    "df = pd.read_csv('diabetes.csv')\n",
    "df.head()"
   ]
  },
  {
   "cell_type": "code",
   "execution_count": 3,
   "id": "49727631",
   "metadata": {},
   "outputs": [
    {
     "data": {
      "text/plain": [
       "count    768.000000\n",
       "mean      33.240885\n",
       "std       11.760232\n",
       "min       21.000000\n",
       "25%       24.000000\n",
       "50%       29.000000\n",
       "75%       41.000000\n",
       "max       81.000000\n",
       "Name: age, dtype: float64"
      ]
     },
     "execution_count": 3,
     "metadata": {},
     "output_type": "execute_result"
    }
   ],
   "source": [
    "df.age.describe()"
   ]
  },
  {
   "cell_type": "code",
   "execution_count": 4,
   "id": "20a0075a",
   "metadata": {},
   "outputs": [
    {
     "data": {
      "image/png": "[encoded data removed]",
      "text/plain": [
       "<Figure size 432x288 with 1 Axes>"
      ]
     },
     "metadata": {
      "needs_background": "light"
     },
     "output_type": "display_data"
    }
   ],
   "source": [
    "sb.histplot(df.age, bins =30, kde=True)\n",
    "plt.xlabel(\"Age\")\n",
    "plt.ylabel(\"Frequency\")\n",
    "plt.title(\"Age distribution\")\n",
    "plt.show()"
   ]
  },
  {
   "cell_type": "markdown",
   "id": "ead09de7",
   "metadata": {},
   "source": [
    "mean age = 33.240885 std.dev = 11.760232"
   ]
  },
  {
   "cell_type": "markdown",
   "id": "dbcdd403",
   "metadata": {},
   "source": [
    "#### Q3"
   ]
  },
  {
   "cell_type": "code",
   "execution_count": 5,
   "id": "5fb0efaa",
   "metadata": {},
   "outputs": [
    {
     "data": {
      "text/html": [
       "<div>\n",
       "<style scoped>\n",
       "    .dataframe tbody tr th:only-of-type {\n",
       "        vertical-align: middle;\n",
       "    }\n",
       "\n",
       "    .dataframe tbody tr th {\n",
       "        vertical-align: top;\n",
       "    }\n",
       "\n",
       "    .dataframe thead th {\n",
       "        text-align: right;\n",
       "    }\n",
       "</style>\n",
       "<table border=\"1\" class=\"dataframe\">\n",
       "  <thead>\n",
       "    <tr style=\"text-align: right;\">\n",
       "      <th></th>\n",
       "      <th>class</th>\n",
       "      <th>mass</th>\n",
       "      <th>age</th>\n",
       "    </tr>\n",
       "  </thead>\n",
       "  <tbody>\n",
       "    <tr>\n",
       "      <th>class</th>\n",
       "      <td>1.000000</td>\n",
       "      <td>0.292695</td>\n",
       "      <td>0.238356</td>\n",
       "    </tr>\n",
       "    <tr>\n",
       "      <th>mass</th>\n",
       "      <td>0.292695</td>\n",
       "      <td>1.000000</td>\n",
       "      <td>0.036242</td>\n",
       "    </tr>\n",
       "    <tr>\n",
       "      <th>age</th>\n",
       "      <td>0.238356</td>\n",
       "      <td>0.036242</td>\n",
       "      <td>1.000000</td>\n",
       "    </tr>\n",
       "  </tbody>\n",
       "</table>\n",
       "</div>"
      ],
      "text/plain": [
       "          class      mass       age\n",
       "class  1.000000  0.292695  0.238356\n",
       "mass   0.292695  1.000000  0.036242\n",
       "age    0.238356  0.036242  1.000000"
      ]
     },
     "execution_count": 5,
     "metadata": {},
     "output_type": "execute_result"
    }
   ],
   "source": [
    "df[['class','mass','age']].corr()"
   ]
  },
  {
   "cell_type": "markdown",
   "id": "ad2b2fdf",
   "metadata": {},
   "source": [
    "therefore age and BMI have a slight positive correlation with class. class and age have a correlation of 0.238356 while class and BMI have a correlation of 0.292695"
   ]
  },
  {
   "cell_type": "markdown",
   "id": "7df73c73",
   "metadata": {},
   "source": [
    "#### Q4"
   ]
  },
  {
   "cell_type": "code",
   "execution_count": 6,
   "id": "0be679b5",
   "metadata": {},
   "outputs": [
    {
     "data": {
      "text/html": [
       "<div>\n",
       "<style scoped>\n",
       "    .dataframe tbody tr th:only-of-type {\n",
       "        vertical-align: middle;\n",
       "    }\n",
       "\n",
       "    .dataframe tbody tr th {\n",
       "        vertical-align: top;\n",
       "    }\n",
       "\n",
       "    .dataframe thead th {\n",
       "        text-align: right;\n",
       "    }\n",
       "</style>\n",
       "<table border=\"1\" class=\"dataframe\">\n",
       "  <thead>\n",
       "    <tr style=\"text-align: right;\">\n",
       "      <th></th>\n",
       "      <th>preg</th>\n",
       "      <th>plas</th>\n",
       "      <th>pres</th>\n",
       "      <th>skin</th>\n",
       "      <th>insu</th>\n",
       "      <th>mass</th>\n",
       "      <th>pedi</th>\n",
       "      <th>age</th>\n",
       "    </tr>\n",
       "    <tr>\n",
       "      <th>class</th>\n",
       "      <th></th>\n",
       "      <th></th>\n",
       "      <th></th>\n",
       "      <th></th>\n",
       "      <th></th>\n",
       "      <th></th>\n",
       "      <th></th>\n",
       "      <th></th>\n",
       "    </tr>\n",
       "  </thead>\n",
       "  <tbody>\n",
       "    <tr>\n",
       "      <th>0</th>\n",
       "      <td>500</td>\n",
       "      <td>500</td>\n",
       "      <td>500</td>\n",
       "      <td>500</td>\n",
       "      <td>500</td>\n",
       "      <td>500</td>\n",
       "      <td>500</td>\n",
       "      <td>500</td>\n",
       "    </tr>\n",
       "    <tr>\n",
       "      <th>1</th>\n",
       "      <td>268</td>\n",
       "      <td>268</td>\n",
       "      <td>268</td>\n",
       "      <td>268</td>\n",
       "      <td>268</td>\n",
       "      <td>268</td>\n",
       "      <td>268</td>\n",
       "      <td>268</td>\n",
       "    </tr>\n",
       "  </tbody>\n",
       "</table>\n",
       "</div>"
      ],
      "text/plain": [
       "       preg  plas  pres  skin  insu  mass  pedi  age\n",
       "class                                               \n",
       "0       500   500   500   500   500   500   500  500\n",
       "1       268   268   268   268   268   268   268  268"
      ]
     },
     "execution_count": 6,
     "metadata": {},
     "output_type": "execute_result"
    }
   ],
   "source": [
    "df.groupby('class').count()"
   ]
  },
  {
   "cell_type": "markdown",
   "id": "467772b3",
   "metadata": {},
   "source": [
    "therefore the dataset is unbalanxced with class = 0 (test negative for diabetese having almost double the number of instancse than class 1 : test positive for diabetese)"
   ]
  },
  {
   "cell_type": "markdown",
   "id": "0491b7fe",
   "metadata": {},
   "source": [
    "#### Q5"
   ]
  },
  {
   "cell_type": "code",
   "execution_count": 7,
   "id": "6528ef31",
   "metadata": {},
   "outputs": [],
   "source": [
    "feature_cols = ['preg','plas','pres','skin','insu','mass','pedi','age']\n",
    "X = df[feature_cols]\n",
    "y = df['class']"
   ]
  },
  {
   "cell_type": "code",
   "execution_count": 8,
   "id": "2db22d3a",
   "metadata": {},
   "outputs": [],
   "source": [
    "#splitting the data\n",
    "from sklearn.model_selection import train_test_split\n",
    "from sklearn.preprocessing import StandardScaler\n",
    "X_train,X_test,y_train,y_test=train_test_split(X,y,test_size=0.3,random_state=25)"
   ]
  },
  {
   "cell_type": "code",
   "execution_count": 9,
   "id": "0936b505",
   "metadata": {},
   "outputs": [
    {
     "name": "stdout",
     "output_type": "stream",
     "text": [
      "Score:  0.7690875232774674\n"
     ]
    }
   ],
   "source": [
    "#building a logistic regression\n",
    "from sklearn.linear_model import LogisticRegression\n",
    "logisticreg = LogisticRegression(max_iter = 1000)\n",
    "logisticreg.fit(X_train,y_train)\n",
    "y_pred=logisticreg.predict(X_test)\n",
    "score = logisticreg.score(X_train,y_train)\n",
    "print(\"Score: \",score)"
   ]
  },
  {
   "cell_type": "markdown",
   "id": "581234fd",
   "metadata": {},
   "source": [
    "#### Q6"
   ]
  },
  {
   "cell_type": "code",
   "execution_count": 10,
   "id": "63e4b2f4",
   "metadata": {},
   "outputs": [
    {
     "data": {
      "text/plain": [
       "array([[138,  22],\n",
       "       [ 25,  46]], dtype=int64)"
      ]
     },
     "execution_count": 10,
     "metadata": {},
     "output_type": "execute_result"
    }
   ],
   "source": [
    "# import the metrics class\n",
    "from sklearn import metrics\n",
    "confusion_matrix = metrics.confusion_matrix(y_test, y_pred)\n",
    "confusion_matrix"
   ]
  },
  {
   "cell_type": "markdown",
   "id": "61c4e3b2",
   "metadata": {},
   "source": [
    "visualization using a confusion matrix"
   ]
  },
  {
   "cell_type": "code",
   "execution_count": 11,
   "id": "fff6a8ae",
   "metadata": {},
   "outputs": [
    {
     "data": {
      "image/png": "[encoded data removed]",
      "text/plain": [
       "<Figure size 432x288 with 2 Axes>"
      ]
     },
     "metadata": {
      "needs_background": "light"
     },
     "output_type": "display_data"
    }
   ],
   "source": [
    "#displaying in the form of heatmap\n",
    "ax = plt.axes()\n",
    "df_cm = confusion_matrix\n",
    "sb.heatmap(df_cm, annot=True, annot_kws={\"size\": 30}, fmt='d',cmap=\"Blues\", ax = ax )\n",
    "ax.set_title('Confusion Matrix')\n",
    "plt.show()"
   ]
  },
  {
   "cell_type": "markdown",
   "id": "f04818cc",
   "metadata": {},
   "source": [
    "#### Q7"
   ]
  },
  {
   "cell_type": "code",
   "execution_count": 12,
   "id": "a0d8216a",
   "metadata": {},
   "outputs": [],
   "source": [
    "TN = confusion_matrix[0,0]\n",
    "TP = confusion_matrix[1,0]\n",
    "FP = confusion_matrix[0,1]\n",
    "FN = confusion_matrix[1,1]\n",
    "TNR = TN / (TN+FP)"
   ]
  },
  {
   "cell_type": "code",
   "execution_count": 13,
   "id": "a9eb7d02",
   "metadata": {},
   "outputs": [
    {
     "name": "stdout",
     "output_type": "stream",
     "text": [
      "Accuracy: 0.7965367965367965\n",
      "Precision: 0.6764705882352942\n",
      "Recall: 0.647887323943662\n",
      "Specificity: 0.8625\n"
     ]
    }
   ],
   "source": [
    "print(\"Accuracy:\",metrics.accuracy_score(y_test, y_pred))\n",
    "print(\"Precision:\",metrics.precision_score(y_test, y_pred))\n",
    "print(\"Recall:\",metrics.recall_score(y_test, y_pred))\n",
    "print(\"Specificity:\",TNR)"
   ]
  },
  {
   "cell_type": "markdown",
   "id": "58d103dd",
   "metadata": {},
   "source": [
    "#### Q8"
   ]
  },
  {
   "cell_type": "code",
   "execution_count": 14,
   "id": "49475026",
   "metadata": {},
   "outputs": [
    {
     "data": {
      "image/png": "[encoded data removed]",
      "text/plain": [
       "<Figure size 432x288 with 1 Axes>"
      ]
     },
     "metadata": {
      "needs_background": "light"
     },
     "output_type": "display_data"
    }
   ],
   "source": [
    "from sklearn.metrics import roc_curve\n",
    "Y_pred_proba = logisticreg.predict_proba(X_test)[::, 1]\n",
    "fpr, tpr, _ = roc_curve(y_test, Y_pred_proba)\n",
    "plt.plot(fpr,tpr)\n",
    "plt.ylabel('True Positive Rate')\n",
    "plt.xlabel('False Positive Rate')\n",
    "plt.show()"
   ]
  },
  {
   "cell_type": "markdown",
   "id": "0262e393",
   "metadata": {},
   "source": [
    "## Exercise2"
   ]
  },
  {
   "cell_type": "markdown",
   "id": "a5f1d8e4",
   "metadata": {},
   "source": [
    "#### Q1"
   ]
  },
  {
   "cell_type": "markdown",
   "id": "47db6915",
   "metadata": {},
   "source": [
    "It includes three iris species with 50 samples each as well as some properties about each flower. One flower species is linearly separable from the other two, but the other two are not linearly separable from each other.\n",
    "\n",
    "The columns in this dataset are:\n",
    "\n",
    "- Id\n",
    "- SepalLengthCm\n",
    "- SepalWidthCm\n",
    "- PetalLengthCm\n",
    "- PetalWidthCm\n",
    "- Species"
   ]
  },
  {
   "cell_type": "code",
   "execution_count": 15,
   "id": "57d2ce13",
   "metadata": {},
   "outputs": [
    {
     "data": {
      "text/html": [
       "<div>\n",
       "<style scoped>\n",
       "    .dataframe tbody tr th:only-of-type {\n",
       "        vertical-align: middle;\n",
       "    }\n",
       "\n",
       "    .dataframe tbody tr th {\n",
       "        vertical-align: top;\n",
       "    }\n",
       "\n",
       "    .dataframe thead th {\n",
       "        text-align: right;\n",
       "    }\n",
       "</style>\n",
       "<table border=\"1\" class=\"dataframe\">\n",
       "  <thead>\n",
       "    <tr style=\"text-align: right;\">\n",
       "      <th></th>\n",
       "      <th>Id</th>\n",
       "      <th>SepalLengthCm</th>\n",
       "      <th>SepalWidthCm</th>\n",
       "      <th>PetalLengthCm</th>\n",
       "      <th>PetalWidthCm</th>\n",
       "      <th>Species</th>\n",
       "    </tr>\n",
       "  </thead>\n",
       "  <tbody>\n",
       "    <tr>\n",
       "      <th>0</th>\n",
       "      <td>1</td>\n",
       "      <td>5.1</td>\n",
       "      <td>3.5</td>\n",
       "      <td>1.4</td>\n",
       "      <td>0.2</td>\n",
       "      <td>Iris-setosa</td>\n",
       "    </tr>\n",
       "    <tr>\n",
       "      <th>1</th>\n",
       "      <td>2</td>\n",
       "      <td>4.9</td>\n",
       "      <td>3.0</td>\n",
       "      <td>1.4</td>\n",
       "      <td>0.2</td>\n",
       "      <td>Iris-setosa</td>\n",
       "    </tr>\n",
       "    <tr>\n",
       "      <th>2</th>\n",
       "      <td>3</td>\n",
       "      <td>4.7</td>\n",
       "      <td>3.2</td>\n",
       "      <td>1.3</td>\n",
       "      <td>0.2</td>\n",
       "      <td>Iris-setosa</td>\n",
       "    </tr>\n",
       "    <tr>\n",
       "      <th>3</th>\n",
       "      <td>4</td>\n",
       "      <td>4.6</td>\n",
       "      <td>3.1</td>\n",
       "      <td>1.5</td>\n",
       "      <td>0.2</td>\n",
       "      <td>Iris-setosa</td>\n",
       "    </tr>\n",
       "    <tr>\n",
       "      <th>4</th>\n",
       "      <td>5</td>\n",
       "      <td>5.0</td>\n",
       "      <td>3.6</td>\n",
       "      <td>1.4</td>\n",
       "      <td>0.2</td>\n",
       "      <td>Iris-setosa</td>\n",
       "    </tr>\n",
       "  </tbody>\n",
       "</table>\n",
       "</div>"
      ],
      "text/plain": [
       "   Id  SepalLengthCm  SepalWidthCm  PetalLengthCm  PetalWidthCm      Species\n",
       "0   1            5.1           3.5            1.4           0.2  Iris-setosa\n",
       "1   2            4.9           3.0            1.4           0.2  Iris-setosa\n",
       "2   3            4.7           3.2            1.3           0.2  Iris-setosa\n",
       "3   4            4.6           3.1            1.5           0.2  Iris-setosa\n",
       "4   5            5.0           3.6            1.4           0.2  Iris-setosa"
      ]
     },
     "execution_count": 15,
     "metadata": {},
     "output_type": "execute_result"
    }
   ],
   "source": [
    "df = pd.read_csv('Iris.csv')\n",
    "df.head()"
   ]
  },
  {
   "cell_type": "code",
   "execution_count": 16,
   "id": "d647f48b",
   "metadata": {},
   "outputs": [],
   "source": [
    "df.drop('Id',axis='columns', inplace=True )"
   ]
  },
  {
   "cell_type": "code",
   "execution_count": 17,
   "id": "ce086c4e",
   "metadata": {},
   "outputs": [
    {
     "data": {
      "text/plain": [
       "SepalLengthCm    0\n",
       "SepalWidthCm     0\n",
       "PetalLengthCm    0\n",
       "PetalWidthCm     0\n",
       "Species          0\n",
       "dtype: int64"
      ]
     },
     "execution_count": 17,
     "metadata": {},
     "output_type": "execute_result"
    }
   ],
   "source": [
    "df.isnull().sum()"
   ]
  },
  {
   "cell_type": "markdown",
   "id": "809bd8d2",
   "metadata": {},
   "source": [
    "therefore there is no missing value in the dataset"
   ]
  },
  {
   "cell_type": "markdown",
   "id": "05a24554",
   "metadata": {},
   "source": [
    "#### Q2"
   ]
  },
  {
   "cell_type": "code",
   "execution_count": 18,
   "id": "06ee7a83",
   "metadata": {},
   "outputs": [
    {
     "name": "stderr",
     "output_type": "stream",
     "text": [
      "D:\\Ananconda3\\lib\\site-packages\\seaborn\\distributions.py:2557: FutureWarning: `distplot` is a deprecated function and will be removed in a future version. Please adapt your code to use either `displot` (a figure-level function with similar flexibility) or `histplot` (an axes-level function for histograms).\n",
      "  warnings.warn(msg, FutureWarning)\n",
      "D:\\Ananconda3\\lib\\site-packages\\seaborn\\distributions.py:2557: FutureWarning: `distplot` is a deprecated function and will be removed in a future version. Please adapt your code to use either `displot` (a figure-level function with similar flexibility) or `histplot` (an axes-level function for histograms).\n",
      "  warnings.warn(msg, FutureWarning)\n",
      "D:\\Ananconda3\\lib\\site-packages\\seaborn\\distributions.py:2557: FutureWarning: `distplot` is a deprecated function and will be removed in a future version. Please adapt your code to use either `displot` (a figure-level function with similar flexibility) or `histplot` (an axes-level function for histograms).\n",
      "  warnings.warn(msg, FutureWarning)\n",
      "D:\\Ananconda3\\lib\\site-packages\\seaborn\\distributions.py:2557: FutureWarning: `distplot` is a deprecated function and will be removed in a future version. Please adapt your code to use either `displot` (a figure-level function with similar flexibility) or `histplot` (an axes-level function for histograms).\n",
      "  warnings.warn(msg, FutureWarning)\n",
      "D:\\Ananconda3\\lib\\site-packages\\seaborn\\distributions.py:2557: FutureWarning: `distplot` is a deprecated function and will be removed in a future version. Please adapt your code to use either `displot` (a figure-level function with similar flexibility) or `histplot` (an axes-level function for histograms).\n",
      "  warnings.warn(msg, FutureWarning)\n",
      "D:\\Ananconda3\\lib\\site-packages\\seaborn\\distributions.py:2557: FutureWarning: `distplot` is a deprecated function and will be removed in a future version. Please adapt your code to use either `displot` (a figure-level function with similar flexibility) or `histplot` (an axes-level function for histograms).\n",
      "  warnings.warn(msg, FutureWarning)\n",
      "D:\\Ananconda3\\lib\\site-packages\\seaborn\\distributions.py:2557: FutureWarning: `distplot` is a deprecated function and will be removed in a future version. Please adapt your code to use either `displot` (a figure-level function with similar flexibility) or `histplot` (an axes-level function for histograms).\n",
      "  warnings.warn(msg, FutureWarning)\n",
      "D:\\Ananconda3\\lib\\site-packages\\seaborn\\distributions.py:2557: FutureWarning: `distplot` is a deprecated function and will be removed in a future version. Please adapt your code to use either `displot` (a figure-level function with similar flexibility) or `histplot` (an axes-level function for histograms).\n",
      "  warnings.warn(msg, FutureWarning)\n",
      "D:\\Ananconda3\\lib\\site-packages\\seaborn\\distributions.py:2557: FutureWarning: `distplot` is a deprecated function and will be removed in a future version. Please adapt your code to use either `displot` (a figure-level function with similar flexibility) or `histplot` (an axes-level function for histograms).\n",
      "  warnings.warn(msg, FutureWarning)\n",
      "D:\\Ananconda3\\lib\\site-packages\\seaborn\\distributions.py:2557: FutureWarning: `distplot` is a deprecated function and will be removed in a future version. Please adapt your code to use either `displot` (a figure-level function with similar flexibility) or `histplot` (an axes-level function for histograms).\n",
      "  warnings.warn(msg, FutureWarning)\n",
      "D:\\Ananconda3\\lib\\site-packages\\seaborn\\distributions.py:2557: FutureWarning: `distplot` is a deprecated function and will be removed in a future version. Please adapt your code to use either `displot` (a figure-level function with similar flexibility) or `histplot` (an axes-level function for histograms).\n",
      "  warnings.warn(msg, FutureWarning)\n",
      "D:\\Ananconda3\\lib\\site-packages\\seaborn\\distributions.py:2557: FutureWarning: `distplot` is a deprecated function and will be removed in a future version. Please adapt your code to use either `displot` (a figure-level function with similar flexibility) or `histplot` (an axes-level function for histograms).\n",
      "  warnings.warn(msg, FutureWarning)\n"
     ]
    },
    {
     "data": {
      "image/png": "[encoded data removed]",
      "text/plain": [
       "<Figure size 319.25x216 with 1 Axes>"
      ]
     },
     "metadata": {
      "needs_background": "light"
     },
     "output_type": "display_data"
    },
    {
     "data": {
      "image/png": "[encoded data removed]",
      "text/plain": [
       "<Figure size 319.25x216 with 1 Axes>"
      ]
     },
     "metadata": {
      "needs_background": "light"
     },
     "output_type": "display_data"
    },
    {
     "data": {
      "image/png": "[encoded data removed]",
      "text/plain": [
       "<Figure size 319.25x216 with 1 Axes>"
      ]
     },
     "metadata": {
      "needs_background": "light"
     },
     "output_type": "display_data"
    },
    {
     "data": {
      "image/png": "[encoded data removed]",
      "text/plain": [
       "<Figure size 319.25x216 with 1 Axes>"
      ]
     },
     "metadata": {
      "needs_background": "light"
     },
     "output_type": "display_data"
    }
   ],
   "source": [
    "plot = sb.FacetGrid(df, hue=\"Species\")\n",
    "plot.map(sb.distplot, \"SepalLengthCm\").add_legend()\n",
    "plot = sb.FacetGrid(df, hue=\"Species\")\n",
    "plot.map(sb.distplot, \"SepalWidthCm\").add_legend()\n",
    "plot = sb.FacetGrid(df, hue=\"Species\")\n",
    "plot.map(sb.distplot, \"PetalLengthCm\").add_legend()  \n",
    "plot = sb.FacetGrid(df, hue=\"Species\")\n",
    "plot.map(sb.distplot, \"PetalWidthCm\").add_legend()\n",
    "plt.show()"
   ]
  },
  {
   "cell_type": "code",
   "execution_count": 19,
   "id": "0aad26bc",
   "metadata": {},
   "outputs": [
    {
     "data": {
      "image/png": "[encoded data removed]",
      "text/plain": [
       "<Figure size 720x720 with 4 Axes>"
      ]
     },
     "metadata": {
      "needs_background": "light"
     },
     "output_type": "display_data"
    }
   ],
   "source": [
    "def graph(y):\n",
    "    sb.boxplot(x=\"Species\", y=y, data=df)\n",
    "  \n",
    "plt.figure(figsize=(10,10))\n",
    "      \n",
    "# Adding the subplot at the specified\n",
    "# grid position\n",
    "plt.subplot(221)\n",
    "graph('SepalLengthCm')\n",
    "  \n",
    "plt.subplot(222)\n",
    "graph('SepalWidthCm')\n",
    "  \n",
    "plt.subplot(223)\n",
    "graph('PetalLengthCm')\n",
    "  \n",
    "plt.subplot(224)\n",
    "graph('PetalWidthCm')\n",
    "  \n",
    "plt.show()"
   ]
  },
  {
   "cell_type": "markdown",
   "id": "75422318",
   "metadata": {},
   "source": [
    "#### Q3"
   ]
  },
  {
   "cell_type": "code",
   "execution_count": 20,
   "id": "b24a2bb7",
   "metadata": {},
   "outputs": [],
   "source": [
    "feature_cols = ['SepalLengthCm','SepalWidthCm','PetalLengthCm','PetalWidthCm']\n",
    "X = df[feature_cols]\n",
    "y = df['Species']"
   ]
  },
  {
   "cell_type": "code",
   "execution_count": 33,
   "id": "c7dc0037",
   "metadata": {},
   "outputs": [],
   "source": [
    "x = np.array(X)\n",
    "y = np.array(y)"
   ]
  },
  {
   "cell_type": "code",
   "execution_count": 34,
   "id": "970e7cc8",
   "metadata": {},
   "outputs": [],
   "source": [
    "#splitting the data\n",
    "from sklearn.model_selection import train_test_split\n",
    "from sklearn.preprocessing import StandardScaler\n",
    "X_train,X_test,y_train,y_test=train_test_split(X,y,test_size=0.3,random_state=25)"
   ]
  },
  {
   "cell_type": "code",
   "execution_count": 35,
   "id": "df5a69ba",
   "metadata": {},
   "outputs": [],
   "source": [
    "#building a logistic regression\n",
    "from sklearn.linear_model import LogisticRegression\n",
    "logisticreg = LogisticRegression()\n",
    "logisticreg.fit(X_train,y_train)\n",
    "y_pred=logisticreg.predict(X_test)\n"
   ]
  },
  {
   "cell_type": "markdown",
   "id": "9fbc2b1c",
   "metadata": {},
   "source": [
    "#### Q4"
   ]
  },
  {
   "cell_type": "code",
   "execution_count": 36,
   "id": "9606a102",
   "metadata": {},
   "outputs": [
    {
     "data": {
      "text/plain": [
       "array([[17,  0,  0],\n",
       "       [ 0, 15,  1],\n",
       "       [ 0,  0, 12]], dtype=int64)"
      ]
     },
     "execution_count": 36,
     "metadata": {},
     "output_type": "execute_result"
    }
   ],
   "source": [
    "# import the metrics class\n",
    "from sklearn import metrics #this could be avoided as the library has already been imported hence not important here\n",
    "confusion_matrix = metrics.confusion_matrix(y_test, y_pred)\n",
    "confusion_matrix"
   ]
  },
  {
   "cell_type": "code",
   "execution_count": 37,
   "id": "6a1ae9ab",
   "metadata": {},
   "outputs": [
    {
     "data": {
      "image/png": "[encoded data removed]",
      "text/plain": [
       "<Figure size 432x288 with 2 Axes>"
      ]
     },
     "metadata": {
      "needs_background": "light"
     },
     "output_type": "display_data"
    }
   ],
   "source": [
    "# display in the form og heatmap \n",
    "ax = plt.axes()\n",
    "df_cm = confusion_matrix\n",
    "sb.heatmap(df_cm, annot=True, annot_kws={\"size\": 30}, fmt='d',cmap=\"Blues\", ax = ax )\n",
    "ax.set_title('Confusion Matrix')\n",
    "plt.show()"
   ]
  },
  {
   "cell_type": "code",
   "execution_count": 38,
   "id": "566f1d11",
   "metadata": {},
   "outputs": [
    {
     "name": "stdout",
     "output_type": "stream",
     "text": [
      "Accuracy: 0.9777777777777777\n"
     ]
    }
   ],
   "source": [
    "print(\"Accuracy:\",metrics.accuracy_score(y_test, y_pred))\n",
    "#print(\"Precision:\",metrics.precision_score(y_test, y_pred))\n",
    "#print(\"Recall:\",metrics.recall_score(y_test, y_pred))\n",
    "\n",
    "#write code"
   ]
  },
  {
   "cell_type": "markdown",
   "id": "24ac5789",
   "metadata": {},
   "source": [
    "#### Q5"
   ]
  },
  {
   "cell_type": "code",
   "execution_count": 39,
   "id": "18276481",
   "metadata": {},
   "outputs": [
    {
     "data": {
      "text/plain": [
       "KNeighborsClassifier()"
      ]
     },
     "execution_count": 39,
     "metadata": {},
     "output_type": "execute_result"
    }
   ],
   "source": [
    "from sklearn.neighbors import KNeighborsClassifier\n",
    "classifier = KNeighborsClassifier(n_neighbors=5)\n",
    "classifier.fit(X_train, y_train)"
   ]
  },
  {
   "cell_type": "code",
   "execution_count": 40,
   "id": "80fcba7a",
   "metadata": {},
   "outputs": [],
   "source": [
    "y_pred = classifier.predict(X_test) #this is done  to make prediction to our test data"
   ]
  },
  {
   "cell_type": "code",
   "execution_count": 45,
   "id": "1b4eabcb",
   "metadata": {},
   "outputs": [
    {
     "name": "stdout",
     "output_type": "stream",
     "text": [
      "2\n",
      "[[17  0  0]\n",
      " [ 0 15  1]\n",
      " [ 0  1 11]]\n",
      "                 precision    recall  f1-score   support\n",
      "\n",
      "    Iris-setosa       1.00      1.00      1.00        17\n",
      "Iris-versicolor       0.94      0.94      0.94        16\n",
      " Iris-virginica       0.92      0.92      0.92        12\n",
      "\n",
      "       accuracy                           0.96        45\n",
      "      macro avg       0.95      0.95      0.95        45\n",
      "   weighted avg       0.96      0.96      0.96        45\n",
      "\n",
      "3\n",
      "[[17  0  0]\n",
      " [ 0 14  2]\n",
      " [ 0  0 12]]\n",
      "                 precision    recall  f1-score   support\n",
      "\n",
      "    Iris-setosa       1.00      1.00      1.00        17\n",
      "Iris-versicolor       1.00      0.88      0.93        16\n",
      " Iris-virginica       0.86      1.00      0.92        12\n",
      "\n",
      "       accuracy                           0.96        45\n",
      "      macro avg       0.95      0.96      0.95        45\n",
      "   weighted avg       0.96      0.96      0.96        45\n",
      "\n",
      "4\n",
      "[[17  0  0]\n",
      " [ 0 15  1]\n",
      " [ 0  1 11]]\n",
      "                 precision    recall  f1-score   support\n",
      "\n",
      "    Iris-setosa       1.00      1.00      1.00        17\n",
      "Iris-versicolor       0.94      0.94      0.94        16\n",
      " Iris-virginica       0.92      0.92      0.92        12\n",
      "\n",
      "       accuracy                           0.96        45\n",
      "      macro avg       0.95      0.95      0.95        45\n",
      "   weighted avg       0.96      0.96      0.96        45\n",
      "\n",
      "5\n",
      "[[17  0  0]\n",
      " [ 0 14  2]\n",
      " [ 0  0 12]]\n",
      "                 precision    recall  f1-score   support\n",
      "\n",
      "    Iris-setosa       1.00      1.00      1.00        17\n",
      "Iris-versicolor       1.00      0.88      0.93        16\n",
      " Iris-virginica       0.86      1.00      0.92        12\n",
      "\n",
      "       accuracy                           0.96        45\n",
      "      macro avg       0.95      0.96      0.95        45\n",
      "   weighted avg       0.96      0.96      0.96        45\n",
      "\n",
      "6\n",
      "[[17  0  0]\n",
      " [ 0 15  1]\n",
      " [ 0  3  9]]\n",
      "                 precision    recall  f1-score   support\n",
      "\n",
      "    Iris-setosa       1.00      1.00      1.00        17\n",
      "Iris-versicolor       0.83      0.94      0.88        16\n",
      " Iris-virginica       0.90      0.75      0.82        12\n",
      "\n",
      "       accuracy                           0.91        45\n",
      "      macro avg       0.91      0.90      0.90        45\n",
      "   weighted avg       0.91      0.91      0.91        45\n",
      "\n",
      "7\n",
      "[[17  0  0]\n",
      " [ 0 14  2]\n",
      " [ 0  1 11]]\n",
      "                 precision    recall  f1-score   support\n",
      "\n",
      "    Iris-setosa       1.00      1.00      1.00        17\n",
      "Iris-versicolor       0.93      0.88      0.90        16\n",
      " Iris-virginica       0.85      0.92      0.88        12\n",
      "\n",
      "       accuracy                           0.93        45\n",
      "      macro avg       0.93      0.93      0.93        45\n",
      "   weighted avg       0.94      0.93      0.93        45\n",
      "\n",
      "8\n",
      "[[17  0  0]\n",
      " [ 0 16  0]\n",
      " [ 0  2 10]]\n",
      "                 precision    recall  f1-score   support\n",
      "\n",
      "    Iris-setosa       1.00      1.00      1.00        17\n",
      "Iris-versicolor       0.89      1.00      0.94        16\n",
      " Iris-virginica       1.00      0.83      0.91        12\n",
      "\n",
      "       accuracy                           0.96        45\n",
      "      macro avg       0.96      0.94      0.95        45\n",
      "   weighted avg       0.96      0.96      0.95        45\n",
      "\n",
      "9\n",
      "[[17  0  0]\n",
      " [ 0 15  1]\n",
      " [ 0  1 11]]\n",
      "                 precision    recall  f1-score   support\n",
      "\n",
      "    Iris-setosa       1.00      1.00      1.00        17\n",
      "Iris-versicolor       0.94      0.94      0.94        16\n",
      " Iris-virginica       0.92      0.92      0.92        12\n",
      "\n",
      "       accuracy                           0.96        45\n",
      "      macro avg       0.95      0.95      0.95        45\n",
      "   weighted avg       0.96      0.96      0.96        45\n",
      "\n",
      "10\n",
      "[[17  0  0]\n",
      " [ 0 16  0]\n",
      " [ 0  2 10]]\n",
      "                 precision    recall  f1-score   support\n",
      "\n",
      "    Iris-setosa       1.00      1.00      1.00        17\n",
      "Iris-versicolor       0.89      1.00      0.94        16\n",
      " Iris-virginica       1.00      0.83      0.91        12\n",
      "\n",
      "       accuracy                           0.96        45\n",
      "      macro avg       0.96      0.94      0.95        45\n",
      "   weighted avg       0.96      0.96      0.95        45\n",
      "\n",
      "11\n",
      "[[17  0  0]\n",
      " [ 0 15  1]\n",
      " [ 0  0 12]]\n",
      "                 precision    recall  f1-score   support\n",
      "\n",
      "    Iris-setosa       1.00      1.00      1.00        17\n",
      "Iris-versicolor       1.00      0.94      0.97        16\n",
      " Iris-virginica       0.92      1.00      0.96        12\n",
      "\n",
      "       accuracy                           0.98        45\n",
      "      macro avg       0.97      0.98      0.98        45\n",
      "   weighted avg       0.98      0.98      0.98        45\n",
      "\n",
      "12\n",
      "[[17  0  0]\n",
      " [ 0 16  0]\n",
      " [ 0  1 11]]\n",
      "                 precision    recall  f1-score   support\n",
      "\n",
      "    Iris-setosa       1.00      1.00      1.00        17\n",
      "Iris-versicolor       0.94      1.00      0.97        16\n",
      " Iris-virginica       1.00      0.92      0.96        12\n",
      "\n",
      "       accuracy                           0.98        45\n",
      "      macro avg       0.98      0.97      0.98        45\n",
      "   weighted avg       0.98      0.98      0.98        45\n",
      "\n",
      "13\n",
      "[[17  0  0]\n",
      " [ 0 16  0]\n",
      " [ 0  0 12]]\n",
      "                 precision    recall  f1-score   support\n",
      "\n",
      "    Iris-setosa       1.00      1.00      1.00        17\n",
      "Iris-versicolor       1.00      1.00      1.00        16\n",
      " Iris-virginica       1.00      1.00      1.00        12\n",
      "\n",
      "       accuracy                           1.00        45\n",
      "      macro avg       1.00      1.00      1.00        45\n",
      "   weighted avg       1.00      1.00      1.00        45\n",
      "\n",
      "14\n",
      "[[17  0  0]\n",
      " [ 0 16  0]\n",
      " [ 0  0 12]]\n",
      "                 precision    recall  f1-score   support\n",
      "\n",
      "    Iris-setosa       1.00      1.00      1.00        17\n",
      "Iris-versicolor       1.00      1.00      1.00        16\n",
      " Iris-virginica       1.00      1.00      1.00        12\n",
      "\n",
      "       accuracy                           1.00        45\n",
      "      macro avg       1.00      1.00      1.00        45\n",
      "   weighted avg       1.00      1.00      1.00        45\n",
      "\n",
      "15\n",
      "[[17  0  0]\n",
      " [ 0 16  0]\n",
      " [ 0  0 12]]\n",
      "                 precision    recall  f1-score   support\n",
      "\n",
      "    Iris-setosa       1.00      1.00      1.00        17\n",
      "Iris-versicolor       1.00      1.00      1.00        16\n",
      " Iris-virginica       1.00      1.00      1.00        12\n",
      "\n",
      "       accuracy                           1.00        45\n",
      "      macro avg       1.00      1.00      1.00        45\n",
      "   weighted avg       1.00      1.00      1.00        45\n",
      "\n",
      "16\n",
      "[[17  0  0]\n",
      " [ 0 16  0]\n",
      " [ 0  0 12]]\n",
      "                 precision    recall  f1-score   support\n",
      "\n",
      "    Iris-setosa       1.00      1.00      1.00        17\n",
      "Iris-versicolor       1.00      1.00      1.00        16\n",
      " Iris-virginica       1.00      1.00      1.00        12\n",
      "\n",
      "       accuracy                           1.00        45\n",
      "      macro avg       1.00      1.00      1.00        45\n",
      "   weighted avg       1.00      1.00      1.00        45\n",
      "\n",
      "17\n",
      "[[17  0  0]\n",
      " [ 0 15  1]\n",
      " [ 0  0 12]]\n",
      "                 precision    recall  f1-score   support\n",
      "\n",
      "    Iris-setosa       1.00      1.00      1.00        17\n",
      "Iris-versicolor       1.00      0.94      0.97        16\n",
      " Iris-virginica       0.92      1.00      0.96        12\n",
      "\n",
      "       accuracy                           0.98        45\n",
      "      macro avg       0.97      0.98      0.98        45\n",
      "   weighted avg       0.98      0.98      0.98        45\n",
      "\n",
      "18\n",
      "[[17  0  0]\n",
      " [ 0 16  0]\n",
      " [ 0  1 11]]\n",
      "                 precision    recall  f1-score   support\n",
      "\n",
      "    Iris-setosa       1.00      1.00      1.00        17\n",
      "Iris-versicolor       0.94      1.00      0.97        16\n",
      " Iris-virginica       1.00      0.92      0.96        12\n",
      "\n",
      "       accuracy                           0.98        45\n",
      "      macro avg       0.98      0.97      0.98        45\n",
      "   weighted avg       0.98      0.98      0.98        45\n",
      "\n",
      "19\n",
      "[[17  0  0]\n",
      " [ 0 16  0]\n",
      " [ 0  0 12]]\n",
      "                 precision    recall  f1-score   support\n",
      "\n",
      "    Iris-setosa       1.00      1.00      1.00        17\n",
      "Iris-versicolor       1.00      1.00      1.00        16\n",
      " Iris-virginica       1.00      1.00      1.00        12\n",
      "\n",
      "       accuracy                           1.00        45\n",
      "      macro avg       1.00      1.00      1.00        45\n",
      "   weighted avg       1.00      1.00      1.00        45\n",
      "\n",
      "20\n",
      "[[17  0  0]\n",
      " [ 0 16  0]\n",
      " [ 0  0 12]]\n",
      "                 precision    recall  f1-score   support\n",
      "\n",
      "    Iris-setosa       1.00      1.00      1.00        17\n",
      "Iris-versicolor       1.00      1.00      1.00        16\n",
      " Iris-virginica       1.00      1.00      1.00        12\n",
      "\n",
      "       accuracy                           1.00        45\n",
      "      macro avg       1.00      1.00      1.00        45\n",
      "   weighted avg       1.00      1.00      1.00        45\n",
      "\n"
     ]
    }
   ],
   "source": [
    "from sklearn.metrics import classification_report, confusion_matrix, accuracy_score\n",
    "for n_neighbors in range (2,21):\n",
    "    print(n_neighbors)\n",
    "    classifier = KNeighborsClassifier(n_neighbors)\n",
    "    classifier.fit(X_train, y_train)\n",
    "    y_pred = classifier.predict(X_test)\n",
    "    print(confusion_matrix(y_test, y_pred))\n",
    "    print(classification_report(y_test, y_pred))\n",
    "\n",
    "    \n",
    "#this function calculated the accuracy measures along with the confusion matrix for all values between 2 and 20\n",
    "#it calculates precision, recall, f1-score and support for all the k values"
   ]
  },
  {
   "cell_type": "markdown",
   "id": "d8ac205e",
   "metadata": {},
   "source": [
    "#### Q6"
   ]
  },
  {
   "cell_type": "code",
   "execution_count": 47,
   "id": "9c850ddf",
   "metadata": {},
   "outputs": [
    {
     "name": "stdout",
     "output_type": "stream",
     "text": [
      "Score for k : 2 = 0.9555555555555556\n",
      "Score for k : 3 = 0.9555555555555556\n",
      "Score for k : 4 = 0.9555555555555556\n",
      "Score for k : 5 = 0.9555555555555556\n",
      "Score for k : 6 = 0.9111111111111111\n",
      "Score for k : 7 = 0.9333333333333333\n",
      "Score for k : 8 = 0.9555555555555556\n",
      "Score for k : 9 = 0.9555555555555556\n",
      "Score for k : 10 = 0.9555555555555556\n",
      "Score for k : 11 = 0.9777777777777777\n",
      "Score for k : 12 = 0.9777777777777777\n",
      "Score for k : 13 = 1.0\n",
      "Score for k : 14 = 1.0\n",
      "Score for k : 15 = 1.0\n",
      "Score for k : 16 = 1.0\n",
      "Score for k : 17 = 0.9777777777777777\n",
      "Score for k : 18 = 0.9777777777777777\n",
      "Score for k : 19 = 1.0\n",
      "Score for k : 20 = 1.0\n"
     ]
    }
   ],
   "source": [
    "k_select = []\n",
    "for k in range(2,21):\n",
    "    knc = KNeighborsClassifier(n_neighbors = k)\n",
    "    knc.fit(X_train, y_train)\n",
    "    y_pred = knc.predict(X_test)\n",
    "    score = accuracy_score(y_test, y_pred)\n",
    "    if score > 0.95:\n",
    "        k_select.append(k)\n",
    "    print(\"Score for k : {} = {}\".format(k,score))"
   ]
  },
  {
   "cell_type": "code",
   "execution_count": 48,
   "id": "dd4ff71c",
   "metadata": {},
   "outputs": [
    {
     "name": "stdout",
     "output_type": "stream",
     "text": [
      "Best Values of K :  [2, 3, 4, 5, 8, 9, 10, 11, 12, 13, 14, 15, 16, 17, 18, 19, 20]\n",
      "Square Root of N (150) = 12.24744871391589\n"
     ]
    }
   ],
   "source": [
    "print(\"Best Values of K : \", k_select)\n",
    "\n",
    "N_samples = X.shape[0]\n",
    "\n",
    "print(\"Square Root of N ({}) = {}\".format(N_samples, N_samples**0.5))"
   ]
  },
  {
   "cell_type": "markdown",
   "id": "b0244f84",
   "metadata": {},
   "source": [
    "on analyzing the dataset we find that the best k is 2, 3, 4, 5, 8, 9, 10, 11, 12, 13, 14, 15, 16, 17, 18, 19, 20"
   ]
  },
  {
   "cell_type": "markdown",
   "id": "a3d2f6b8",
   "metadata": {},
   "source": [
    "#### Q7"
   ]
  },
  {
   "cell_type": "markdown",
   "id": "f91348ec",
   "metadata": {},
   "source": [
    "according to the computation knn has a slightly better(very minor) accuracy than logistic regression.\n",
    "with the highest accuracy of knn being 1 and accuracy of logistic regression being 0.977777"
   ]
  },
  {
   "cell_type": "code",
   "execution_count": null,
   "id": "1c0d7540",
   "metadata": {},
   "outputs": [],
   "source": []
  }
 ],
 "metadata": {
  "kernelspec": {
   "display_name": "Python 3",
   "language": "python",
   "name": "python3"
  },
  "language_info": {
   "codemirror_mode": {
    "name": "ipython",
    "version": 3
   },
   "file_extension": ".py",
   "mimetype": "text/x-python",
   "name": "python",
   "nbconvert_exporter": "python",
   "pygments_lexer": "ipython3",
   "version": "3.8.8"
  }
 },
 "nbformat": 4,
 "nbformat_minor": 5
}
