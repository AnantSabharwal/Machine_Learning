{
 "cells": [
  {
   "cell_type": "code",
   "execution_count": 1,
   "metadata": {
    "id": "lklKTjAsSJnO"
   },
   "outputs": [],
   "source": [
    "# Importing Necessary Libraries\n",
    "import numpy as np\n",
    "from numpy import genfromtxt\n"
   ]
  },
  {
   "cell_type": "code",
   "execution_count": 2,
   "metadata": {
    "colab": {
     "base_uri": "https://localhost:8080/"
    },
    "id": "Lz7Tuz6FSRJY",
    "outputId": "59ba29ea-c418-48e8-fc33-7add4992d1e2"
   },
   "outputs": [
    {
     "name": "stdout",
     "output_type": "stream",
     "text": [
      "[4.38754501 2.6796499  2.96848981 3.25406475 3.53637472 3.81541972\n",
      " 4.09119974 2.36371479 3.83296487 4.09894997]\n"
     ]
    }
   ],
   "source": [
    "# Importing data and separating X & y variables\n",
    "dt = genfromtxt(\"D3.csv\", delimiter=\",\")\n",
    "X = dt[:, 0:3]\n",
    "y= dt[:, 3]\n",
    "print(y[0:10])"
   ]
  },
  {
   "cell_type": "code",
   "execution_count": 3,
   "metadata": {
    "id": "XmUbJQUUSYmP"
   },
   "outputs": [],
   "source": [
    "# Multivariate Linear Regression using Gradient Descent\n",
    "def LinReg_with_gradient_descent(X, y, alpha, epoch):\n",
    "  m = X.shape[0]  # number of samples\n",
    "  ones =np.ones((m,1))  \n",
    "  X = np.concatenate((ones, X), axis=1)   # Nuw X with X0's =1\n",
    "  n = X.shape[1]   # \n",
    "  Theta = np.ones(n)    # n= 4  parameter initialization\n",
    "  h = np.dot(X, Theta)   # Compute hypothesis\n",
    "\n",
    "  # Gradient descent algorithm\n",
    "  cost = np.ones(epoch)\n",
    "  for i in range (0, epoch):\n",
    "    Theta[0] = Theta[0] - (alpha / X.shape[0]) * sum(h-y)\n",
    "    for j in range(1, n):\n",
    "      Theta[j]= Theta[j] - (alpha/ X.shape[0]) * sum((h-y) * X[:, j])\n",
    "    h  = np.dot(X, Theta)\n",
    "    cost[i] = 1/(2*m) * sum(np.square(h-y))  # Compute Cost\n",
    "  return cost, Theta\n"
   ]
  },
  {
   "cell_type": "code",
   "execution_count": 4,
   "metadata": {
    "colab": {
     "base_uri": "https://localhost:8080/"
    },
    "id": "IdtN6TLXSe_x",
    "outputId": "351e52b9-2900-48d6-8d73-70b2bc5ee1fe"
   },
   "outputs": [
    {
     "name": "stdout",
     "output_type": "stream",
     "text": [
      "[ 5.31416716 -2.00371927  0.53256334 -0.26560186]\n"
     ]
    }
   ],
   "source": [
    "# Calculating theta and cost\n",
    "cost, theta = LinReg_with_gradient_descent(X, y, 0.1, 2000)\n",
    "print(theta)"
   ]
  },
  {
   "cell_type": "code",
   "execution_count": 9,
   "metadata": {},
   "outputs": [],
   "source": [
    "from matplotlib import pyplot as plt"
   ]
  },
  {
   "cell_type": "code",
   "execution_count": 10,
   "metadata": {
    "colab": {
     "base_uri": "https://localhost:8080/",
     "height": 314
    },
    "id": "7AzxXMhTSiM_",
    "outputId": "168a1b7d-945b-4ebf-9a26-99296eeea494"
   },
   "outputs": [
    {
     "data": {
      "image/png": "[encoded data removed]",
      "text/plain": [
       "<Figure size 432x288 with 1 Axes>"
      ]
     },
     "metadata": {
      "needs_background": "light"
     },
     "output_type": "display_data"
    },
    {
     "name": "stdout",
     "output_type": "stream",
     "text": [
      "Lowest cost =0.7384642415682937\n",
      " Cost after 2000 iterations = 0.7384642415682943\n"
     ]
    }
   ],
   "source": [
    "# Checking out the loss or cost plot\n",
    "plt.plot(cost)\n",
    "plt.xlabel(\"Epoch (number of iteration)\")\n",
    "plt.ylabel( \"Cost or Loss\")\n",
    "plt.show()\n",
    "print(\"Lowest cost =\" + str(np.min(cost)))\n",
    "print(\" Cost after 2000 iterations = \" + str(cost[-1]))"
   ]
  },
  {
   "cell_type": "code",
   "execution_count": 11,
   "metadata": {
    "colab": {
     "base_uri": "https://localhost:8080/"
    },
    "id": "EtU0GJMid0w2",
    "outputId": "4ee3f0f1-20fc-456e-fc68-348c94116c69"
   },
   "outputs": [
    {
     "name": "stdout",
     "output_type": "stream",
     "text": [
      "0.2443211716166045\n"
     ]
    }
   ],
   "source": [
    "X_predict_1= np.array([1, 2,0,4])\n",
    "y_predict_1= np.dot(X_predict_1, theta)\n",
    "print(y_predict_1)"
   ]
  },
  {
   "cell_type": "code",
   "execution_count": 12,
   "metadata": {
    "colab": {
     "base_uri": "https://localhost:8080/"
    },
    "id": "u2kA9DXKyFzi",
    "outputId": "512147f8-2dd1-4a85-9ce8-10c9a6ce4321"
   },
   "outputs": [
    {
     "name": "stdout",
     "output_type": "stream",
     "text": [
      "Prediction for (1,1,1) = 3.577409369212849\n",
      "Prediction for (2,0,4) = 0.2443211716166045\n",
      "Prediction for (3,2,1) = 0.10253417197052594\n"
     ]
    }
   ],
   "source": [
    "#Predictions for the new values using the model\n",
    "X_predict_1=np.array([1,1,1])\n",
    "X_predict_2=np.array([2,0,4])\n",
    "X_predict_3=np.array([3,2,1])\n",
    "\n",
    "#Predictions\n",
    "X_predict_1 = np.concatenate(([1], X_predict_1), axis = 0) # Adding one colum of one in the beggining\n",
    "y_predict_1=np.dot(theta, X_predict_1)\n",
    "print(\"Prediction for (1,1,1) = \" + str(y_predict_1))\n",
    "\n",
    "X_predict_2 = np.concatenate(([1], X_predict_2), axis = 0) # Adding one colum of one in the beggining\n",
    "y_predict_2=np.dot(theta, X_predict_2)\n",
    "print(\"Prediction for (2,0,4) = \" + str(y_predict_2))\n",
    "\n",
    "X_predict_3 = np.concatenate(([1], X_predict_3), axis = 0) # Adding one colum of one in the beggining\n",
    "y_predict_3=np.dot(theta, X_predict_3)\n",
    "print(\"Prediction for (3,2,1) = \" + str(y_predict_3))"
   ]
  },
  {
   "cell_type": "markdown",
   "metadata": {
    "id": "YRksyvwwxc55"
   },
   "source": [
    "#Validating the model using Built-in Linear Regression Function"
   ]
  },
  {
   "cell_type": "code",
   "execution_count": 13,
   "metadata": {
    "colab": {
     "base_uri": "https://localhost:8080/"
    },
    "id": "EJNRM7-TeSWc",
    "outputId": "4d218ce7-e216-49f6-f402-6e48b0f66e62"
   },
   "outputs": [
    {
     "data": {
      "text/plain": [
       "LinearRegression()"
      ]
     },
     "execution_count": 13,
     "metadata": {},
     "output_type": "execute_result"
    }
   ],
   "source": [
    "from sklearn import linear_model  # Importing linear model\n",
    "lm = linear_model.LinearRegression()   # Linear regression\n",
    "lm.fit(X, y)           # Fitting the data"
   ]
  },
  {
   "cell_type": "code",
   "execution_count": 14,
   "metadata": {
    "colab": {
     "base_uri": "https://localhost:8080/"
    },
    "id": "yjq7u_CYek76",
    "outputId": "01ee2ab8-2fb3-4344-a12c-e821db423263"
   },
   "outputs": [
    {
     "name": "stdout",
     "output_type": "stream",
     "text": [
      "5.3141671724569814 [-2.00371927  0.53256334 -0.26560187]\n",
      "Prediction for (1,1,1) = [3.57740937]\n",
      "Prediction for (2,0,4) = [0.24432117]\n",
      "Prediction for (3,2,1) = [0.10253417]\n"
     ]
    }
   ],
   "source": [
    "# Printing the thetas (intercept and coefs)\n",
    "print(lm.intercept_, lm.coef_)\n",
    "# print(lm.coef_)\n",
    "\n",
    "#Predictions\n",
    "X_predict_1=np.array([[1,1,1]])\n",
    "X_predict_2=np.array([[2,0,4]])\n",
    "X_predict_3=np.array([[3,2,1]])\n",
    "print(\"Prediction for (1,1,1) = \" + str(lm.predict(X_predict_1)))\n",
    "print(\"Prediction for (2,0,4) = \" + str(lm.predict(X_predict_2)))\n",
    "print(\"Prediction for (3,2,1) = \" + str(lm.predict(X_predict_3)))"
   ]
  },
  {
   "cell_type": "code",
   "execution_count": null,
   "metadata": {},
   "outputs": [],
   "source": []
  }
 ],
 "metadata": {
  "colab": {
   "collapsed_sections": [],
   "name": "Gradient_Descent.ipynb",
   "provenance": []
  },
  "kernelspec": {
   "display_name": "Python 3",
   "language": "python",
   "name": "python3"
  },
  "language_info": {
   "codemirror_mode": {
    "name": "ipython",
    "version": 3
   },
   "file_extension": ".py",
   "mimetype": "text/x-python",
   "name": "python",
   "nbconvert_exporter": "python",
   "pygments_lexer": "ipython3",
   "version": "3.8.5"
  }
 },
 "nbformat": 4,
 "nbformat_minor": 1
}
